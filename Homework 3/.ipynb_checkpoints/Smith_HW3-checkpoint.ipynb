{
 "cells": [
  {
   "cell_type": "markdown",
   "metadata": {},
   "source": [
    "### Fin 5350-Homework 3\n",
    "### Carson Bessinger\n",
    "### December 5\n"
   ]
  },
  {
   "cell_type": "markdown",
   "metadata": {},
   "source": [
    "## Problem 1"
   ]
  },
  {
   "cell_type": "markdown",
   "metadata": {},
   "source": [
    "Let K = $40.0, r = 8%, σ = 30%, T = 1.0, and δ = 0.0"
   ]
  },
  {
   "cell_type": "markdown",
   "metadata": {},
   "source": [
    "(a) Write Python functions for delta, gamma, vega, theta and rho for European call and put options under the BSM model."
   ]
  },
  {
   "cell_type": "code",
   "execution_count": 70,
   "metadata": {},
   "outputs": [],
   "source": [
    "import numpy as np\n",
    "from scipy.stats import norm\n",
    "import matplotlib\n",
    "import matplotlib.pyplot as plt\n"
   ]
  },
  {
   "cell_type": "code",
   "execution_count": 71,
   "metadata": {},
   "outputs": [],
   "source": [
    "def bsmCallDelta(spot, strike, vol, rate, tau, div):\n",
    "    d1 = (np.log(spot / strike) + (rate - div + 0.5 * vol * vol) * tau) / (vol * np.sqrt(tau))\n",
    "    deltaCall = np.exp(-div * tau) * norm.cdf(d1)\n",
    "    \n",
    "    return deltaCall\n",
    "\n",
    "def bsmPutDelta(spot, strike, vol, rate, tau, div):\n",
    "    d1 = (np.log(spot / strike) + (rate - div + 0.5 * vol * vol) * tau) / (vol * np.sqrt(tau))\n",
    "    deltaPut = np.exp(-div * tau) * norm.cdf(-d1)\n",
    "    return deltaPut\n",
    "\n"
   ]
  },
  {
   "cell_type": "code",
   "execution_count": 72,
   "metadata": {},
   "outputs": [],
   "source": [
    "def bsmCallGamma(spot, strike, vol, rate, tau, div):\n",
    "    d1 = (np.log(spot / strike) + (rate - div + 0.5 * vol * vol) * tau) / (vol * np.sqrt(tau))\n",
    "    gammaCall =(np.exp(-div*tau)*norm.pdf(d1))/(spot*vol*np.sqrt(tau))\n",
    "\n",
    "    return gammaCall\n",
    "    \n",
    "def bsmPutGamma(spot, strike, vol, rate, tau, div):\n",
    "    d1 = (np.log(spot / strike) + (rate - div + 0.5 * vol * vol) * tau) / (vol * np.sqrt(tau))\n",
    "    gammaPut =(np.exp(-div*tau)*norm.pdf(d1))/(spot*vol*np.sqrt(tau))\n",
    "    \n",
    "    return gammaPut"
   ]
  },
  {
   "cell_type": "code",
   "execution_count": 73,
   "metadata": {},
   "outputs": [],
   "source": [
    "def bsmCallVega(spot, strike, vol, rate, tau, div):\n",
    "    d1 = (np.log(spot / strike) + (rate - div + 0.5 * vol * vol) * tau) / (vol * np.sqrt(tau))\n",
    "    vega = spot*np.exp(-div*tau)*norm.pdf(d1)*np.sqrt(tau)\n",
    "        \n",
    "    return vega\n",
    "\n",
    "\n",
    "def bsmPutVega(spot, strike, vol, rate, tau, div):\n",
    "    d1 = (np.log(spot / strike) + (rate - div + 0.5 * vol * vol) * tau) / (vol * np.sqrt(tau))\n",
    "    vega = spot*np.exp(-div*tau)*norm.pdf(d1)*np.sqrt(tau)\n",
    "\n",
    "    return vega"
   ]
  },
  {
   "cell_type": "code",
   "execution_count": 74,
   "metadata": {},
   "outputs": [],
   "source": [
    "def bsmCallTheta(spot, strike, vol, rate, tau, div):\n",
    "    d1 = (np.log(spot / strike) + (rate - div + 0.5 * vol * vol) * tau) / (vol * np.sqrt(tau))\n",
    "    d2 = d1 - (vol * np.sqrt(tau))\n",
    "    thetaCall = (div*spot*np.exp(-div*tau)*norm.cdf(d1))-(rate*strike*np.exp(-rate*tau)*norm.cdf(d2))\n",
    "    -((strike*np.exp(-rate*tau)*norm.pdf(d2)*vol)/(2*np.sqrt(tau)))\n",
    "\n",
    "    return thetaCall"
   ]
  },
  {
   "cell_type": "code",
   "execution_count": 100,
   "metadata": {},
   "outputs": [],
   "source": [
    "def bsmCallRho(spot, strike, vol, rate, tau, div):\n",
    "    d1 = (np.log(spot / strike) + (rate - div + 0.5 * vol * vol) * tau) / (vol * np.sqrt(tau))\n",
    "    d2 = d1 - (vol * np.sqrt(tau))\n",
    "    rhoCall = tau*strike*(np.exp(-div*tau))*norm.cdf(d2)\n",
    "    \n",
    "    return rhoCall\n",
    "\n",
    "def bsmPutRho(spot, strike, vol, rate, tau, div):\n",
    "    d1 = (np.log(spot / strike) + (rate - div + 0.5 * vol * vol) * tau) / (vol * np.sqrt(tau))\n",
    "    d2 = d1 - (vol * np.sqrt(tau))\n",
    "    rhoPut = -tau*strike*np.exp(-div*tau)*norm.cdf(-d2)\n",
    "    \n",
    "    return rhoPut"
   ]
  },
  {
   "cell_type": "markdown",
   "metadata": {},
   "source": [
    "(b) Calculate and plot delta, gamma, vega, theta, and rho for a call option for a range of time T stock prices (ST) ranging from 0.0 to 80.0 dollars."
   ]
  },
  {
   "cell_type": "code",
   "execution_count": 87,
   "metadata": {},
   "outputs": [],
   "source": [
    "strike = 40\n",
    "vol = 0.08\n",
    "rate = 0.30\n",
    "tau = 1.0\n",
    "div = 0.0"
   ]
  },
  {
   "cell_type": "code",
   "execution_count": 88,
   "metadata": {},
   "outputs": [
    {
     "name": "stderr",
     "output_type": "stream",
     "text": [
      "/anaconda3/lib/python3.7/site-packages/ipykernel_launcher.py:2: RuntimeWarning: divide by zero encountered in log\n",
      "  \n"
     ]
    },
    {
     "data": {
      "image/png": "[encoded data removed]",
      "text/plain": [
       "<Figure size 432x288 with 1 Axes>"
      ]
     },
     "metadata": {
      "needs_background": "light"
     },
     "output_type": "display_data"
    }
   ],
   "source": [
    "bsmDeltaCalls = np.empty(81)\n",
    "for i in range(81):\n",
    "    bsmDeltaCalls[i] = bsmCallDelta(i, strike, vol, rate, tau, div)\n",
    "plt.plot(bsmDeltaCalls)\n",
    "plt.show()"
   ]
  },
  {
   "cell_type": "code",
   "execution_count": 89,
   "metadata": {},
   "outputs": [
    {
     "name": "stderr",
     "output_type": "stream",
     "text": [
      "/anaconda3/lib/python3.7/site-packages/ipykernel_launcher.py:2: RuntimeWarning: divide by zero encountered in log\n",
      "  \n"
     ]
    },
    {
     "data": {
      "image/png": "[encoded data removed]",
      "text/plain": [
       "<Figure size 432x288 with 1 Axes>"
      ]
     },
     "metadata": {
      "needs_background": "light"
     },
     "output_type": "display_data"
    }
   ],
   "source": [
    "bsmGammaCalls = np.empty(81)\n",
    "for i in range(81):\n",
    "    bsmDeltaCalls[i] = bsmCallDelta(i, strike, vol, rate, tau, div)\n",
    "plt.plot(bsmGammaCalls)\n",
    "plt.show()"
   ]
  },
  {
   "cell_type": "code",
   "execution_count": 90,
   "metadata": {},
   "outputs": [
    {
     "name": "stderr",
     "output_type": "stream",
     "text": [
      "/anaconda3/lib/python3.7/site-packages/ipykernel_launcher.py:2: RuntimeWarning: divide by zero encountered in log\n",
      "  \n"
     ]
    },
    {
     "data": {
      "image/png": "[encoded data removed]",
      "text/plain": [
       "<Figure size 432x288 with 1 Axes>"
      ]
     },
     "metadata": {
      "needs_background": "light"
     },
     "output_type": "display_data"
    }
   ],
   "source": [
    "bsmVegaCalls = np.empty(81)\n",
    "for i in range(81):\n",
    "    bsmVegaCalls[i] = bsmCallVega(i, strike, vol, rate, tau, div)\n",
    "plt.plot(bsmVegaCalls)\n",
    "plt.show()"
   ]
  },
  {
   "cell_type": "code",
   "execution_count": 91,
   "metadata": {},
   "outputs": [
    {
     "name": "stderr",
     "output_type": "stream",
     "text": [
      "/anaconda3/lib/python3.7/site-packages/ipykernel_launcher.py:2: RuntimeWarning: divide by zero encountered in log\n",
      "  \n"
     ]
    },
    {
     "data": {
      "image/png": "[encoded data removed]",
      "text/plain": [
       "<Figure size 432x288 with 1 Axes>"
      ]
     },
     "metadata": {
      "needs_background": "light"
     },
     "output_type": "display_data"
    }
   ],
   "source": [
    "bsmThetaCalls = np.empty(81)\n",
    "for i in range(81):\n",
    "    bsmThetaCalls[i] = bsmCallTheta(i, strike, vol, rate, tau, div)\n",
    "plt.plot(bsmThetaCalls)\n",
    "plt.show() "
   ]
  },
  {
   "cell_type": "code",
   "execution_count": 92,
   "metadata": {},
   "outputs": [
    {
     "name": "stderr",
     "output_type": "stream",
     "text": [
      "/anaconda3/lib/python3.7/site-packages/ipykernel_launcher.py:2: RuntimeWarning: divide by zero encountered in log\n",
      "  \n"
     ]
    },
    {
     "data": {
      "image/png": "[encoded data removed]",
      "text/plain": [
       "<Figure size 432x288 with 1 Axes>"
      ]
     },
     "metadata": {
      "needs_background": "light"
     },
     "output_type": "display_data"
    }
   ],
   "source": [
    "bsmRhoCalls = np.empty(81)\n",
    "for i in range(81):\n",
    "    bsmRhoCalls[i] = bsmCallTheta(i, strike, vol, rate, tau, div)\n",
    "plt.plot(bsmRhoCalls)\n",
    "plt.show()"
   ]
  },
  {
   "cell_type": "code",
   "execution_count": 95,
   "metadata": {},
   "outputs": [
    {
     "name": "stderr",
     "output_type": "stream",
     "text": [
      "/anaconda3/lib/python3.7/site-packages/ipykernel_launcher.py:8: RuntimeWarning: divide by zero encountered in log\n",
      "  \n"
     ]
    },
    {
     "data": {
      "image/png": "[encoded data removed]",
      "text/plain": [
       "<Figure size 432x288 with 1 Axes>"
      ]
     },
     "metadata": {
      "needs_background": "light"
     },
     "output_type": "display_data"
    }
   ],
   "source": [
    "bsmDeltaPut = np.empty(81)\n",
    "for i in range(81):\n",
    "    bsmDeltaPut[i] = bsmPutDelta(i, strike, vol, rate, tau, div)\n",
    "plt.plot(bsmDeltaPut)\n",
    "plt.show()"
   ]
  },
  {
   "cell_type": "code",
   "execution_count": 97,
   "metadata": {},
   "outputs": [
    {
     "name": "stderr",
     "output_type": "stream",
     "text": [
      "/anaconda3/lib/python3.7/site-packages/ipykernel_launcher.py:9: RuntimeWarning: divide by zero encountered in log\n",
      "  if __name__ == '__main__':\n"
     ]
    },
    {
     "data": {
      "image/png": "[encoded data removed]",
      "text/plain": [
       "<Figure size 432x288 with 1 Axes>"
      ]
     },
     "metadata": {
      "needs_background": "light"
     },
     "output_type": "display_data"
    }
   ],
   "source": [
    "bsmVegaPut = np.empty(81)\n",
    "for i in range(81):\n",
    "    bsmVegaPut[i] = bsmPutVega(i, strike, vol, rate, tau, div)\n",
    "plt.plot(bsmVegaPut)\n",
    "plt.show()"
   ]
  },
  {
   "cell_type": "code",
   "execution_count": 101,
   "metadata": {},
   "outputs": [
    {
     "name": "stderr",
     "output_type": "stream",
     "text": [
      "/anaconda3/lib/python3.7/site-packages/ipykernel_launcher.py:9: RuntimeWarning: divide by zero encountered in log\n",
      "  if __name__ == '__main__':\n"
     ]
    },
    {
     "data": {
      "image/png": "[encoded data removed]",
      "text/plain": [
       "<Figure size 432x288 with 1 Axes>"
      ]
     },
     "metadata": {
      "needs_background": "light"
     },
     "output_type": "display_data"
    }
   ],
   "source": [
    "bsmRhoPut = np.empty(81)\n",
    "for i in range(81):\n",
    "    bsmRhoPut[i] = bsmPutRho(i, strike, vol, rate, tau, div)\n",
    "plt.plot(bsmRhoPut)\n",
    "plt.show()"
   ]
  },
  {
   "cell_type": "markdown",
   "metadata": {},
   "source": [
    "# Problem 2"
   ]
  },
  {
   "cell_type": "code",
   "execution_count": 107,
   "metadata": {},
   "outputs": [
    {
     "data": {
      "text/plain": [
       "[<matplotlib.lines.Line2D at 0x1a23055e80>]"
      ]
     },
     "execution_count": 107,
     "metadata": {},
     "output_type": "execute_result"
    },
    {
     "data": {
      "image/png": "[encoded data removed]",
      "text/plain": [
       "<Figure size 432x288 with 1 Axes>"
      ]
     },
     "metadata": {
      "needs_background": "light"
     },
     "output_type": "display_data"
    }
   ],
   "source": [
    "S0 = 41.0\n",
    "K = 40\n",
    "r = 0.08\n",
    "sigma = 0.30\n",
    "T = 1.0\n",
    "div = 0.0\n",
    "n = 6\n",
    "h = T/252\n",
    "\n",
    "path = np.zeros(n)\n",
    "z = np.random.normal(size=n)\n",
    "path[0] = S0\n",
    "\n",
    "for t in range(1, n):\n",
    "    path[t] = path[t-1] * np.exp((r - div - 0.5 * sigma**2) * h + sigma * np.sqrt(h) * z[t])\n",
    "\n",
    "plt.plot(path)"
   ]
  },
  {
   "cell_type": "code",
   "execution_count": null,
   "metadata": {},
   "outputs": [],
   "source": []
  },
  {
   "cell_type": "code",
   "execution_count": 103,
   "metadata": {},
   "outputs": [],
   "source": []
  }
 ],
 "metadata": {
  "kernelspec": {
   "display_name": "Python 3",
   "language": "python",
   "name": "python3"
  },
  "language_info": {
   "codemirror_mode": {
    "name": "ipython",
    "version": 3
   },
   "file_extension": ".py",
   "mimetype": "text/x-python",
   "name": "python",
   "nbconvert_exporter": "python",
   "pygments_lexer": "ipython3",
   "version": "3.7.0"
  }
 },
 "nbformat": 4,
 "nbformat_minor": 2
}
