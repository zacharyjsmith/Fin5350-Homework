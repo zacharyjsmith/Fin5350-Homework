{
 "cells": [
  {
   "cell_type": "markdown",
   "metadata": {},
   "source": [
    "### Fin 5350-Homework 3\n",
    "### Zachary Smith\n",
    "### December 6\n"
   ]
  },
  {
   "cell_type": "markdown",
   "metadata": {},
   "source": [
    "## Problem 1"
   ]
  },
  {
   "cell_type": "markdown",
   "metadata": {},
   "source": [
    "Let K = $40.0, r = 8%, σ = 30%, T = 1.0, and δ = 0.0"
   ]
  },
  {
   "cell_type": "markdown",
   "metadata": {},
   "source": [
    "(a) Write Python functions for delta, gamma, vega, theta and rho for European call and put options under the BSM model."
   ]
  },
  {
   "cell_type": "code",
   "execution_count": 65,
   "metadata": {},
   "outputs": [],
   "source": [
    "import numpy as np\n",
    "from scipy.stats import norm\n",
    "import matplotlib\n",
    "import matplotlib.pyplot as plt\n"
   ]
  },
  {
   "cell_type": "code",
   "execution_count": 66,
   "metadata": {},
   "outputs": [],
   "source": [
    "def bsmCallDelta(spot, strike, vol, rate, tau, div):\n",
    "    d1 = (np.log(spot / strike) + (rate - div + 0.5 * vol * vol) * tau) / (vol * np.sqrt(tau))\n",
    "    deltaCall = np.exp(-div * tau) * norm.cdf(d1)\n",
    "    \n",
    "    return deltaCall\n",
    "\n",
    "def bsmPutDelta(spot, strike, vol, rate, tau, div):\n",
    "    d1 = (np.log(spot / strike) + (rate - div + 0.5 * vol * vol) * tau) / (vol * np.sqrt(tau))\n",
    "    deltaPut = np.exp(-div * tau) * norm.cdf(-d1)\n",
    "    return deltaPut\n",
    "\n"
   ]
  },
  {
   "cell_type": "code",
   "execution_count": 67,
   "metadata": {},
   "outputs": [],
   "source": [
    "def bsmCallGamma(spot, strike, vol, rate, tau, div):\n",
    "    d1 = (np.log(spot / strike) + (rate - div + 0.5 * vol * vol) * tau) / (vol * np.sqrt(tau))\n",
    "    gammaCall =(np.exp(-div*tau)*norm.pdf(d1))/(spot*vol*np.sqrt(tau))\n",
    "\n",
    "    return gammaCall\n",
    "    \n",
    "def bsmPutGamma(spot, strike, vol, rate, tau, div):\n",
    "    d1 = (np.log(spot / strike) + (rate - div + 0.5 * vol * vol) * tau) / (vol * np.sqrt(tau))\n",
    "    gammaPut =(np.exp(-div*tau)*norm.pdf(d1))/(spot*vol*np.sqrt(tau))\n",
    "    \n",
    "    return gammaPut"
   ]
  },
  {
   "cell_type": "code",
   "execution_count": 68,
   "metadata": {},
   "outputs": [],
   "source": [
    "def bsmCallVega(spot, strike, vol, rate, tau, div):\n",
    "    d1 = (np.log(spot / strike) + (rate - div + 0.5 * vol * vol) * tau) / (vol * np.sqrt(tau))\n",
    "    vega = spot*np.exp(-div*tau)*norm.pdf(d1)*np.sqrt(tau)\n",
    "        \n",
    "    return vega\n",
    "\n",
    "\n",
    "def bsmPutVega(spot, strike, vol, rate, tau, div):\n",
    "    d1 = (np.log(spot / strike) + (rate - div + 0.5 * vol * vol) * tau) / (vol * np.sqrt(tau))\n",
    "    vega = spot*np.exp(-div*tau)*norm.pdf(d1)*np.sqrt(tau)\n",
    "\n",
    "    return vega"
   ]
  },
  {
   "cell_type": "code",
   "execution_count": 69,
   "metadata": {},
   "outputs": [],
   "source": [
    "def bsmCallTheta(spot, strike, vol, rate, tau, div):\n",
    "    d1 = (np.log(spot / strike) + (rate - div + 0.5 * vol * vol) * tau) / (vol * np.sqrt(tau))\n",
    "    d2 = d1 - (vol * np.sqrt(tau))\n",
    "    thetaCall = (div*spot*np.exp(-div*tau)*norm.cdf(d1))-(rate*strike*np.exp(-rate*tau)*norm.cdf(d2))\n",
    "    -((strike*np.exp(-rate*tau)*norm.pdf(d2)*vol)/(2*np.sqrt(tau)))\n",
    "\n",
    "    return thetaCall"
   ]
  },
  {
   "cell_type": "code",
   "execution_count": 70,
   "metadata": {},
   "outputs": [],
   "source": [
    "def bsmCallRho(spot, strike, vol, rate, tau, div):\n",
    "    d1 = (np.log(spot / strike) + (rate - div + 0.5 * vol * vol) * tau) / (vol * np.sqrt(tau))\n",
    "    d2 = d1 - (vol * np.sqrt(tau))\n",
    "    rhoCall = tau*strike*(np.exp(-div*tau))*norm.cdf(d2)\n",
    "    \n",
    "    return rhoCall\n",
    "\n",
    "def bsmPutRho(spot, strike, vol, rate, tau, div):\n",
    "    d1 = (np.log(spot / strike) + (rate - div + 0.5 * vol * vol) * tau) / (vol * np.sqrt(tau))\n",
    "    d2 = d1 - (vol * np.sqrt(tau))\n",
    "    rhoPut = -tau*strike*np.exp(-div*tau)*norm.cdf(-d2)\n",
    "    \n",
    "    return rhoPut"
   ]
  },
  {
   "cell_type": "markdown",
   "metadata": {},
   "source": [
    "(b) Calculate and plot delta, gamma, vega, theta, and rho for a call option for a range of time T stock prices (ST) ranging from 0.0 to 80.0 dollars."
   ]
  },
  {
   "cell_type": "code",
   "execution_count": 71,
   "metadata": {},
   "outputs": [],
   "source": [
    "strike = 40\n",
    "vol = 0.08\n",
    "rate = 0.30\n",
    "tau = 1.0\n",
    "div = 0.0"
   ]
  },
  {
   "cell_type": "code",
   "execution_count": 72,
   "metadata": {},
   "outputs": [
    {
     "name": "stderr",
     "output_type": "stream",
     "text": [
      "C:\\Users\\ZAK\\Anaconda3\\lib\\site-packages\\ipykernel_launcher.py:2: RuntimeWarning: divide by zero encountered in log\n",
      "  \n"
     ]
    },
    {
     "data": {
      "image/png": "[encoded data removed]",
      "text/plain": [
       "<Figure size 432x288 with 1 Axes>"
      ]
     },
     "metadata": {},
     "output_type": "display_data"
    }
   ],
   "source": [
    "bsmDeltaCalls = np.empty(81)\n",
    "for i in range(81):\n",
    "    bsmDeltaCalls[i] = bsmCallDelta(i, strike, vol, rate, tau, div)\n",
    "plt.plot(bsmDeltaCalls)\n",
    "plt.show()"
   ]
  },
  {
   "cell_type": "code",
   "execution_count": 73,
   "metadata": {},
   "outputs": [
    {
     "name": "stderr",
     "output_type": "stream",
     "text": [
      "C:\\Users\\ZAK\\Anaconda3\\lib\\site-packages\\ipykernel_launcher.py:2: RuntimeWarning: divide by zero encountered in log\n",
      "  \n"
     ]
    },
    {
     "data": {
      "image/png": "[encoded data removed]",
      "text/plain": [
       "<Figure size 432x288 with 1 Axes>"
      ]
     },
     "metadata": {},
     "output_type": "display_data"
    }
   ],
   "source": [
    "bsmGammaCalls = np.empty(81)\n",
    "for i in range(81):\n",
    "    bsmDeltaCalls[i] = bsmCallDelta(i, strike, vol, rate, tau, div)\n",
    "plt.plot(bsmGammaCalls)\n",
    "plt.show()"
   ]
  },
  {
   "cell_type": "code",
   "execution_count": 74,
   "metadata": {},
   "outputs": [
    {
     "name": "stderr",
     "output_type": "stream",
     "text": [
      "C:\\Users\\ZAK\\Anaconda3\\lib\\site-packages\\ipykernel_launcher.py:2: RuntimeWarning: divide by zero encountered in log\n",
      "  \n"
     ]
    },
    {
     "data": {
      "image/png": "[encoded data removed]",
      "text/plain": [
       "<Figure size 432x288 with 1 Axes>"
      ]
     },
     "metadata": {},
     "output_type": "display_data"
    }
   ],
   "source": [
    "bsmVegaCalls = np.empty(81)\n",
    "for i in range(81):\n",
    "    bsmVegaCalls[i] = bsmCallVega(i, strike, vol, rate, tau, div)\n",
    "plt.plot(bsmVegaCalls)\n",
    "plt.show()"
   ]
  },
  {
   "cell_type": "code",
   "execution_count": 75,
   "metadata": {},
   "outputs": [
    {
     "name": "stderr",
     "output_type": "stream",
     "text": [
      "C:\\Users\\ZAK\\Anaconda3\\lib\\site-packages\\ipykernel_launcher.py:2: RuntimeWarning: divide by zero encountered in log\n",
      "  \n"
     ]
    },
    {
     "data": {
      "image/png": "[encoded data removed]",
      "text/plain": [
       "<Figure size 432x288 with 1 Axes>"
      ]
     },
     "metadata": {},
     "output_type": "display_data"
    }
   ],
   "source": [
    "bsmThetaCalls = np.empty(81)\n",
    "for i in range(81):\n",
    "    bsmThetaCalls[i] = bsmCallTheta(i, strike, vol, rate, tau, div)\n",
    "plt.plot(bsmThetaCalls)\n",
    "plt.show() "
   ]
  },
  {
   "cell_type": "code",
   "execution_count": 76,
   "metadata": {},
   "outputs": [
    {
     "name": "stderr",
     "output_type": "stream",
     "text": [
      "C:\\Users\\ZAK\\Anaconda3\\lib\\site-packages\\ipykernel_launcher.py:2: RuntimeWarning: divide by zero encountered in log\n",
      "  \n"
     ]
    },
    {
     "data": {
      "image/png": "[encoded data removed]",
      "text/plain": [
       "<Figure size 432x288 with 1 Axes>"
      ]
     },
     "metadata": {},
     "output_type": "display_data"
    }
   ],
   "source": [
    "bsmRhoCalls = np.empty(81)\n",
    "for i in range(81):\n",
    "    bsmRhoCalls[i] = bsmCallTheta(i, strike, vol, rate, tau, div)\n",
    "plt.plot(bsmRhoCalls)\n",
    "plt.show()"
   ]
  },
  {
   "cell_type": "code",
   "execution_count": 77,
   "metadata": {},
   "outputs": [
    {
     "name": "stderr",
     "output_type": "stream",
     "text": [
      "C:\\Users\\ZAK\\Anaconda3\\lib\\site-packages\\ipykernel_launcher.py:8: RuntimeWarning: divide by zero encountered in log\n",
      "  \n"
     ]
    },
    {
     "data": {
      "image/png": "[encoded data removed]",
      "text/plain": [
       "<Figure size 432x288 with 1 Axes>"
      ]
     },
     "metadata": {},
     "output_type": "display_data"
    }
   ],
   "source": [
    "bsmDeltaPut = np.empty(81)\n",
    "for i in range(81):\n",
    "    bsmDeltaPut[i] = bsmPutDelta(i, strike, vol, rate, tau, div)\n",
    "plt.plot(bsmDeltaPut)\n",
    "plt.show()"
   ]
  },
  {
   "cell_type": "code",
   "execution_count": 78,
   "metadata": {},
   "outputs": [
    {
     "name": "stderr",
     "output_type": "stream",
     "text": [
      "C:\\Users\\ZAK\\Anaconda3\\lib\\site-packages\\ipykernel_launcher.py:9: RuntimeWarning: divide by zero encountered in log\n",
      "  if __name__ == '__main__':\n"
     ]
    },
    {
     "data": {
      "image/png": "[encoded data removed]",
      "text/plain": [
       "<Figure size 432x288 with 1 Axes>"
      ]
     },
     "metadata": {},
     "output_type": "display_data"
    }
   ],
   "source": [
    "bsmVegaPut = np.empty(81)\n",
    "for i in range(81):\n",
    "    bsmVegaPut[i] = bsmPutVega(i, strike, vol, rate, tau, div)\n",
    "plt.plot(bsmVegaPut)\n",
    "plt.show()"
   ]
  },
  {
   "cell_type": "code",
   "execution_count": 79,
   "metadata": {},
   "outputs": [
    {
     "name": "stderr",
     "output_type": "stream",
     "text": [
      "C:\\Users\\ZAK\\Anaconda3\\lib\\site-packages\\ipykernel_launcher.py:9: RuntimeWarning: divide by zero encountered in log\n",
      "  if __name__ == '__main__':\n"
     ]
    },
    {
     "data": {
      "image/png": "[encoded data removed]",
      "text/plain": [
       "<Figure size 432x288 with 1 Axes>"
      ]
     },
     "metadata": {},
     "output_type": "display_data"
    }
   ],
   "source": [
    "bsmRhoPut = np.empty(81)\n",
    "for i in range(81):\n",
    "    bsmRhoPut[i] = bsmPutRho(i, strike, vol, rate, tau, div)\n",
    "plt.plot(bsmRhoPut)\n",
    "plt.show()"
   ]
  },
  {
   "cell_type": "markdown",
   "metadata": {},
   "source": [
    "# Problem 2"
   ]
  },
  {
   "cell_type": "code",
   "execution_count": 92,
   "metadata": {},
   "outputs": [
    {
     "data": {
      "text/plain": [
       "[<matplotlib.lines.Line2D at 0x273d1ef44e0>]"
      ]
     },
     "execution_count": 92,
     "metadata": {},
     "output_type": "execute_result"
    },
    {
     "data": {
      "image/png": "[encoded data removed]",
      "text/plain": [
       "<Figure size 432x288 with 1 Axes>"
      ]
     },
     "metadata": {},
     "output_type": "display_data"
    }
   ],
   "source": [
    "S0 = 41.0\n",
    "K = 40\n",
    "r = 0.08\n",
    "sigma = 0.30\n",
    "T = 1.0\n",
    "div = 0.0\n",
    "n = 6\n",
    "h = T/252\n",
    "\n",
    "path = np.zeros(n)\n",
    "z = np.random.normal(size=n)\n",
    "path[0] = S0\n",
    "\n",
    "for t in range(1, n):\n",
    "    path[t] = path[t-1] * np.exp((r - div - 0.5 * sigma**2) * h + sigma * np.sqrt(h) * z[t])\n",
    "\n",
    "plt.plot(path)"
   ]
  },
  {
   "cell_type": "code",
   "execution_count": 93,
   "metadata": {},
   "outputs": [],
   "source": [
    "import pandas as pd\n",
    "import os"
   ]
  },
  {
   "cell_type": "code",
   "execution_count": 94,
   "metadata": {},
   "outputs": [],
   "source": [
    "def bsmCall(spot, strike, vol, rate, tau, div):\n",
    "    d1 = (np.log(spot / strike) + (rate - div + 0.5 * vol * vol) * tau) / (vol * np.sqrt(tau))\n",
    "    d2 = d1 - (vol * np.sqrt(tau))\n",
    "    callPrc = (spot * np.exp(-div * tau) * norm.cdf(d1)) - (strike * np.exp(-rate * tau) * norm.cdf(d2))\n",
    "    putPrc = (strike * np.exp(-div * tau) * norm.cdf(-d2)) - (spot * np.exp(-rate * tau) * norm.cdf(-d1))\n",
    "    \n",
    "    return callPrc\n"
   ]
  },
  {
   "cell_type": "code",
   "execution_count": 95,
   "metadata": {},
   "outputs": [],
   "source": [
    "delta_calls2 = np.empty(n)\n",
    "bsm_calls = np.empty(n)\n",
    "stock = np.empty(n)\n",
    "call = np.empty(n)\n",
    "option = np.empty(n)\n",
    "investment = np.empty(n)\n",
    "\n",
    "gain = np.empty(n)\n",
    "gain_written = np.empty(n)\n",
    "interest = np.zeros(n)\n",
    "gain = np.zeros(n)\n",
    "profit = np.zeros(n)\n",
    "\n",
    "for j in range(n):\n",
    "    delta_calls2[j] = bsmCallDelta(path[j], strike, vol, rate, tau, div)\n",
    "    bsm_calls[j] = bsmCall(path[j], strike, vol, rate, tau, div)\n",
    "    stock[j] = path[j]\n",
    "    call[j] = bsm_calls[j] * 100\n",
    "    option[j] = delta_calls2[j] * 100\n",
    "    investment[j] = (option[j] * stock[j]) - call[j]\n",
    "    \n",
    "for k in range(1,n):\n",
    "    gain[k] = delta_calls2[k-1] * (path[k] - path[k-1])\n",
    "    gain_written[k] = delta_calls2[k-1] - delta_calls2[k]\n",
    "    interest[k] =  -(np.exp(r/365) - 1) * investment[k-1]\n",
    "    gain[k] = gain[k] - gain_written[k]\n",
    "    profit[k] = interest[k] + gain[k]"
   ]
  },
  {
   "cell_type": "code",
   "execution_count": 96,
   "metadata": {},
   "outputs": [
    {
     "data": {
      "text/html": [
       "<div>\n",
       "<style scoped>\n",
       "    .dataframe tbody tr th:only-of-type {\n",
       "        vertical-align: middle;\n",
       "    }\n",
       "\n",
       "    .dataframe tbody tr th {\n",
       "        vertical-align: top;\n",
       "    }\n",
       "\n",
       "    .dataframe thead th {\n",
       "        text-align: right;\n",
       "    }\n",
       "</style>\n",
       "<table border=\"1\" class=\"dataframe\">\n",
       "  <thead>\n",
       "    <tr style=\"text-align: right;\">\n",
       "      <th></th>\n",
       "      <th>Day</th>\n",
       "      <th>0</th>\n",
       "      <th>1</th>\n",
       "      <th>2</th>\n",
       "      <th>3</th>\n",
       "      <th>4</th>\n",
       "      <th>5</th>\n",
       "    </tr>\n",
       "  </thead>\n",
       "  <tbody>\n",
       "    <tr>\n",
       "      <th>0</th>\n",
       "      <td>---</td>\n",
       "      <td>---</td>\n",
       "      <td>---</td>\n",
       "      <td>---</td>\n",
       "      <td>---</td>\n",
       "      <td>---</td>\n",
       "      <td>---</td>\n",
       "    </tr>\n",
       "    <tr>\n",
       "      <th>1</th>\n",
       "      <td>Stocks($)</td>\n",
       "      <td>41</td>\n",
       "      <td>42.6035</td>\n",
       "      <td>43.2638</td>\n",
       "      <td>42.3274</td>\n",
       "      <td>41.4625</td>\n",
       "      <td>42.0377</td>\n",
       "    </tr>\n",
       "    <tr>\n",
       "      <th>2</th>\n",
       "      <td>Call($)</td>\n",
       "      <td>1136.73</td>\n",
       "      <td>1297.08</td>\n",
       "      <td>1363.1</td>\n",
       "      <td>1269.47</td>\n",
       "      <td>1182.98</td>\n",
       "      <td>1240.49</td>\n",
       "    </tr>\n",
       "    <tr>\n",
       "      <th>3</th>\n",
       "      <td>Option delta</td>\n",
       "      <td>99.9979</td>\n",
       "      <td>99.9998</td>\n",
       "      <td>99.9999</td>\n",
       "      <td>99.9997</td>\n",
       "      <td>99.9989</td>\n",
       "      <td>99.9995</td>\n",
       "    </tr>\n",
       "    <tr>\n",
       "      <th>4</th>\n",
       "      <td>Investment($)</td>\n",
       "      <td>2963.19</td>\n",
       "      <td>2963.26</td>\n",
       "      <td>2963.27</td>\n",
       "      <td>2963.26</td>\n",
       "      <td>2963.23</td>\n",
       "      <td>2963.25</td>\n",
       "    </tr>\n",
       "    <tr>\n",
       "      <th>5</th>\n",
       "      <td>---</td>\n",
       "      <td>---</td>\n",
       "      <td>---</td>\n",
       "      <td>---</td>\n",
       "      <td>---</td>\n",
       "      <td>---</td>\n",
       "      <td>---</td>\n",
       "    </tr>\n",
       "    <tr>\n",
       "      <th>6</th>\n",
       "      <td>Interest($)</td>\n",
       "      <td>0</td>\n",
       "      <td>-0.649537</td>\n",
       "      <td>-0.649553</td>\n",
       "      <td>-0.649555</td>\n",
       "      <td>-0.649552</td>\n",
       "      <td>-0.649545</td>\n",
       "    </tr>\n",
       "    <tr>\n",
       "      <th>7</th>\n",
       "      <td>Capital Gain</td>\n",
       "      <td>0</td>\n",
       "      <td>1.60353</td>\n",
       "      <td>0.660232</td>\n",
       "      <td>-0.936332</td>\n",
       "      <td>-0.864923</td>\n",
       "      <td>0.575128</td>\n",
       "    </tr>\n",
       "    <tr>\n",
       "      <th>8</th>\n",
       "      <td>---</td>\n",
       "      <td>---</td>\n",
       "      <td>---</td>\n",
       "      <td>---</td>\n",
       "      <td>---</td>\n",
       "      <td>---</td>\n",
       "      <td>---</td>\n",
       "    </tr>\n",
       "    <tr>\n",
       "      <th>9</th>\n",
       "      <td>Daily Profit</td>\n",
       "      <td>0</td>\n",
       "      <td>0.953993</td>\n",
       "      <td>0.0106782</td>\n",
       "      <td>-1.58589</td>\n",
       "      <td>-1.51448</td>\n",
       "      <td>-0.0744175</td>\n",
       "    </tr>\n",
       "  </tbody>\n",
       "</table>\n",
       "</div>"
      ],
      "text/plain": [
       "             Day        0         1          2         3         4          5\n",
       "0            ---      ---       ---        ---       ---       ---        ---\n",
       "1      Stocks($)       41   42.6035    43.2638   42.3274   41.4625    42.0377\n",
       "2        Call($)  1136.73   1297.08     1363.1   1269.47   1182.98    1240.49\n",
       "3   Option delta  99.9979   99.9998    99.9999   99.9997   99.9989    99.9995\n",
       "4  Investment($)  2963.19   2963.26    2963.27   2963.26   2963.23    2963.25\n",
       "5            ---      ---       ---        ---       ---       ---        ---\n",
       "6    Interest($)        0 -0.649537  -0.649553 -0.649555 -0.649552  -0.649545\n",
       "7   Capital Gain        0   1.60353   0.660232 -0.936332 -0.864923   0.575128\n",
       "8            ---      ---       ---        ---       ---       ---        ---\n",
       "9   Daily Profit        0  0.953993  0.0106782  -1.58589  -1.51448 -0.0744175"
      ]
     },
     "execution_count": 96,
     "metadata": {},
     "output_type": "execute_result"
    }
   ],
   "source": [
    "df=pd.DataFrame({\n",
    "\"Day\": [\"---\",\"Stocks($)\",\"Call($)\",\"Option delta\",\"Investment($)\",\"---\",\"Interest($)\",\"Capital Gain\",\"---\",\"Daily Profit\"],\n",
    "\"0\": [\"---\",stock[k-5],call[k-5],option[k-5],investment[k-5],\"---\",interest[k-5],gain[k-5],\"---\",profit[k-5]],\n",
    "\"1\": [\"---\",stock[k-4],call[k-4],option[k-4],investment[k-4],\"---\",interest[k-4],gain[k-4],\"---\",profit[k-4]],\n",
    "\"2\": [\"---\",stock[k-3],call[k-3],option[k-3],investment[k-3],\"---\",interest[k-3],gain[k-3],\"---\",profit[k-3]],\n",
    "\"3\": [\"---\",stock[k-2],call[k-2],option[k-2],investment[k-2],\"---\",interest[k-2],gain[k-2],\"---\",profit[k-2]],\n",
    "\"4\": [\"---\",stock[k-1],call[k-1],option[k-1],investment[k-1],\"---\",interest[k-1],gain[k-1],\"---\",profit[k-1]],\n",
    "\"5\": [\"---\",stock[k],call[k],option[k],investment[k],\"---\",interest[k],gain[k],\"---\",profit[k]]\n",
    "})\n",
    "\n",
    "df"
   ]
  },
  {
   "cell_type": "code",
   "execution_count": null,
   "metadata": {},
   "outputs": [],
   "source": []
  },
  {
   "cell_type": "code",
   "execution_count": null,
   "metadata": {},
   "outputs": [],
   "source": []
  }
 ],
 "metadata": {
  "kernelspec": {
   "display_name": "Python 3",
   "language": "python",
   "name": "python3"
  },
  "language_info": {
   "codemirror_mode": {
    "name": "ipython",
    "version": 3
   },
   "file_extension": ".py",
   "mimetype": "text/x-python",
   "name": "python",
   "nbconvert_exporter": "python",
   "pygments_lexer": "ipython3",
   "version": "3.6.5"
  }
 },
 "nbformat": 4,
 "nbformat_minor": 2
}
