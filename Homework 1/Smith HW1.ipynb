{
 "cells": [
  {
   "cell_type": "markdown",
   "metadata": {},
   "source": [
    "# FIN 5350 - Homework 1\n",
    "### Zachary Smith\n",
    "### September 19, 2018"
   ]
  },
  {
   "cell_type": "code",
   "execution_count": 1,
   "metadata": {},
   "outputs": [],
   "source": [
    "import numpy as np\n",
    "from scipy.stats import binom"
   ]
  },
  {
   "cell_type": "markdown",
   "metadata": {},
   "source": [
    "## Problem 1"
   ]
  },
  {
   "cell_type": "code",
   "execution_count": 2,
   "metadata": {},
   "outputs": [
    {
     "name": "stdout",
     "output_type": "stream",
     "text": [
      "The largest size that you cannot get is: 43\n"
     ]
    }
   ],
   "source": [
    "def is_nugget_number(candidate,SIX = 6,NINE = 9,TWENTY = 20):\n",
    "    for i in range(candidate//SIX + 1):\n",
    "        for j in range(candidate//NINE + 1):\n",
    "            for k in range(candidate//TWENTY + 1):\n",
    "                if(candidate == i * SIX + j * NINE + k * TWENTY):\n",
    "                    return True\n",
    "            \n",
    "    return False\n",
    "    \n",
    "## main\n",
    "SIX = 6\n",
    "count = 0\n",
    "largest = 0\n",
    "candidate = SIX\n",
    "\n",
    "while count < SIX:\n",
    "    if(is_nugget_number(candidate)):\n",
    "        count += 1\n",
    "    else:\n",
    "        largest = candidate\n",
    "        count = 0\n",
    "    candidate += 1\n",
    "        \n",
    "print(\"The largest size that you cannot get is: {0}\".format(largest))"
   ]
  },
  {
   "cell_type": "markdown",
   "metadata": {},
   "source": [
    "## Problem 2"
   ]
  },
  {
   "cell_type": "code",
   "execution_count": 30,
   "metadata": {},
   "outputs": [
    {
     "name": "stdout",
     "output_type": "stream",
     "text": [
      "\tWelcome to 'I'm going to Guess Your Number'!\n",
      "\tPlease think of a number between 0 and 100!.\n",
      "Is your number? 50\n"
     ]
    },
    {
     "name": "stdin",
     "output_type": "stream",
     "text": [
      "Please say higher lower or correct:  lower\n"
     ]
    },
    {
     "name": "stdout",
     "output_type": "stream",
     "text": [
      "Is your number? 25\n"
     ]
    },
    {
     "name": "stdin",
     "output_type": "stream",
     "text": [
      "Please say higher lower or correct:  higher\n"
     ]
    },
    {
     "name": "stdout",
     "output_type": "stream",
     "text": [
      "Is your number? 38\n"
     ]
    },
    {
     "name": "stdin",
     "output_type": "stream",
     "text": [
      "Please say higher lower or correct:  lower\n"
     ]
    },
    {
     "name": "stdout",
     "output_type": "stream",
     "text": [
      "Is your number? 32\n"
     ]
    },
    {
     "name": "stdin",
     "output_type": "stream",
     "text": [
      "Please say higher lower or correct:  higher\n"
     ]
    },
    {
     "name": "stdout",
     "output_type": "stream",
     "text": [
      "Is your number? 35\n"
     ]
    },
    {
     "name": "stdin",
     "output_type": "stream",
     "text": [
      "Please say higher lower or correct:  higher\n"
     ]
    },
    {
     "name": "stdout",
     "output_type": "stream",
     "text": [
      "Is your number? 36\n"
     ]
    },
    {
     "name": "stdin",
     "output_type": "stream",
     "text": [
      "Please say higher lower or correct:  higher\n"
     ]
    },
    {
     "name": "stdout",
     "output_type": "stream",
     "text": [
      "Is your number? 37\n"
     ]
    },
    {
     "name": "stdin",
     "output_type": "stream",
     "text": [
      "Please say higher lower or correct:  correct\n"
     ]
    },
    {
     "name": "stdout",
     "output_type": "stream",
     "text": [
      "Your number is: 37\n",
      "I guessed it! The number was 37\n",
      "And it only took me 7 tries!\n",
      "\n",
      "\n",
      "\n",
      "Press the enter key to exit.\n"
     ]
    }
   ],
   "source": [
    "def print_header():\n",
    "    print(\"\\tWelcome to 'I'm going to Guess Your Number'!\")\n",
    "    print(\"\\tPlease think of a number between 0 and 100!.\")\n",
    "\n",
    "    \n",
    "def print_footer(the_number, tries):\n",
    "    print(\"I guessed it! The number was\", midpoint)\n",
    "    print(\"And it only took me\", tries, \"tries!\\n\")\n",
    "    print(\"\\n\\nPress the enter key to exit.\")      \n",
    "    \n",
    "    \n",
    "def main():\n",
    "    print_header()\n",
    "\n",
    "    uper = 100\n",
    "    lower = 0\n",
    "    tries = 1\n",
    "    \n",
    "    while True:\n",
    "        midpoint = round((uper - lower)/2 + lower)\n",
    "        print (\"Is your number?\", midpoint)\n",
    "        guess = input(\"Please say higher lower or correct: \")\n",
    "        if guess == \"higher\":\n",
    "            lower = midpoint\n",
    "        elif guess == \"lower\":\n",
    "            uper = midpoint\n",
    "        elif guess == \"correct\":\n",
    "            print(\"Your number is: \" + str(midpoint))\n",
    "            break\n",
    "        else:\n",
    "            print(\"Please use only 'higher', 'lower', or 'correct'\")\n",
    "        tries += 1\n",
    "    \n",
    "    print_footer(midpoint, tries)  \n",
    "    \n",
    "if __name__ == \"__main__\":\n",
    "    main()"
   ]
  }
 ],
 "metadata": {
  "kernelspec": {
   "display_name": "Python 3",
   "language": "python",
   "name": "python3"
  },
  "language_info": {
   "codemirror_mode": {
    "name": "ipython",
    "version": 3
   },
   "file_extension": ".py",
   "mimetype": "text/x-python",
   "name": "python",
   "nbconvert_exporter": "python",
   "pygments_lexer": "ipython3",
   "version": "3.6.5"
  }
 },
 "nbformat": 4,
 "nbformat_minor": 2
}
