{
 "cells": [
  {
   "cell_type": "markdown",
   "metadata": {},
   "source": [
    "# **Homework 2**\n",
    "## Zachary Smith <br>19 October, 2018 <br> Dr. Tyler Brough <br>Finance 5350"
   ]
  },
  {
   "cell_type": "markdown",
   "metadata": {},
   "source": [
    "### Problem 1: Let S = $100, K = $105, r = 8%, T = 0.5, and δ = 0.0, Let u= 1.3, d= 0.8, and n = 1\n",
    "\n",
    "\n"
   ]
  },
  {
   "cell_type": "code",
   "execution_count": 3,
   "metadata": {},
   "outputs": [],
   "source": [
    "r = 0.08        \n",
    "v = 0.30       \n",
    "q = 0.0        \n",
    "T = .5\n",
    "n = 1.0        \n",
    "h = T / n \n",
    "S = 100      \n",
    "K = 105       \n",
    "u = 1.3\n",
    "d = .8\n",
    "\n"
   ]
  },
  {
   "cell_type": "markdown",
   "metadata": {},
   "source": [
    "#### (a) What are the premium, ∆, and B, for a European call?\n",
    "\n"
   ]
  },
  {
   "cell_type": "code",
   "execution_count": 4,
   "metadata": {},
   "outputs": [
    {
     "name": "stdout",
     "output_type": "stream",
     "text": [
      "(0.5, -38.431577566092926, 11.568422433907074)\n"
     ]
    }
   ],
   "source": [
    "\n",
    "import numpy as np\n",
    "\n",
    "def callPayoff(spot, strike):\n",
    "    return np.maximum(spot - strike, 0.0)\n",
    "fu = callPayoff(u * S, K)\n",
    "fd = callPayoff(d * S, K)\n",
    "Delta = (fu - fd)/(S * (u - d))                        \n",
    "B = np.exp(-r * h) * ((u * fd - d * fu)/ (u - d))  \n",
    "callPremium = S * Delta + B\n",
    "\n",
    "print((Delta, B, callPremium))"
   ]
  },
  {
   "cell_type": "markdown",
   "metadata": {},
   "source": [
    "#### (b) What are the premium, ∆, and B, for a European put?"
   ]
  },
  {
   "cell_type": "code",
   "execution_count": 5,
   "metadata": {},
   "outputs": [
    {
     "name": "stdout",
     "output_type": "stream",
     "text": [
      "-0.5 62.451313544901005 12.451313544901005\n"
     ]
    }
   ],
   "source": [
    "import numpy as np\n",
    "\n",
    "def putPayoff(spot, strike):\n",
    "    return np.maximum(strike - spot, 0.0)\n",
    "fu = putPayoff(u * S, K)\n",
    "fd = putPayoff(d * S, K)\n",
    "Delta = (fu - fd)/(S * (u - d))                        \n",
    "B = np.exp(-r * h) * ((u * fd - d * fu)/ (u - d))  \n",
    "putPremium = (S * Delta) + B\n",
    "\n",
    "print(Delta, B, putPremium)"
   ]
  },
  {
   "cell_type": "markdown",
   "metadata": {},
   "source": [
    "### Problem 2: Let S = $100, K = $95, r = 8%, T = 0.5, δ = 0.0, u = 1.3, d = 0.8, and n = 1 "
   ]
  },
  {
   "cell_type": "code",
   "execution_count": 6,
   "metadata": {},
   "outputs": [],
   "source": [
    "r = 0.08        \n",
    "v = 0.30       \n",
    "q = 0.0        \n",
    "T = .5\n",
    "n = 1.0        \n",
    "h = T / n \n",
    "S = 100      \n",
    "K = 95       \n",
    "u = 1.3\n",
    "d = .8"
   ]
  },
  {
   "cell_type": "markdown",
   "metadata": {},
   "source": [
    "#### (a) Verify that the price of a European put is $7.471."
   ]
  },
  {
   "cell_type": "code",
   "execution_count": 7,
   "metadata": {},
   "outputs": [
    {
     "name": "stdout",
     "output_type": "stream",
     "text": [
      "The European Put Premium:  7.47\n"
     ]
    }
   ],
   "source": [
    "import numpy as np\n",
    "\n",
    "def putPayoff(spot, strike):\n",
    "    return np.maximum(strike - spot, 0.0)\n",
    "fu = putPayoff(u * S, K)\n",
    "fd = putPayoff(d * S, K)\n",
    "Delta = (fu - fd)/(S * (u - d))                        \n",
    "B = np.exp(-r * h) * ((u * fd - d * fu)/ (u - d))  \n",
    "putPremium = (S * Delta) + B\n",
    "\n",
    "print(f\"The European Put Premium: {putPremium : 0.2f}\")"
   ]
  },
  {
   "cell_type": "markdown",
   "metadata": {},
   "source": [
    "#### (b) Suppose you observe a call price of $17. What is the arbitrage?"
   ]
  },
  {
   "cell_type": "code",
   "execution_count": 8,
   "metadata": {},
   "outputs": [
    {
     "name": "stdout",
     "output_type": "stream",
     "text": [
      "The arbatrage would be:  0.80\n"
     ]
    }
   ],
   "source": [
    "def callPayoff(spot, strike):\n",
    "    return np.maximum(spot - strike, 0.0)\n",
    "fu = callPayoff(u * S, K)\n",
    "fd = callPayoff(d * S, K)\n",
    "Delta = (fu - fd)/(S * (u - d))                        \n",
    "B = np.exp(-r * h) * ((u * fd - d * fu)/ (u - d))  \n",
    "callPremium = S * Delta + B\n",
    "callPrice = 17\n",
    "Arbitrage = callPrice-callPremium\n",
    "print(f\"The arbatrage would be: {Arbitrage : 0.2f}\")"
   ]
  },
  {
   "cell_type": "markdown",
   "metadata": {},
   "source": [
    "#### (c) Suppose you observe a call price of $15.50. What is the arbitage?"
   ]
  },
  {
   "cell_type": "code",
   "execution_count": 9,
   "metadata": {},
   "outputs": [
    {
     "name": "stdout",
     "output_type": "stream",
     "text": [
      "The arbatrage would be: -0.70\n"
     ]
    }
   ],
   "source": [
    "def callPayoff(spot, strike):\n",
    "    return np.maximum(spot - strike, 0.0)\n",
    "fu = callPayoff(u * S, K)\n",
    "fd = callPayoff(d * S, K)\n",
    "Delta = (fu - fd)/(S * (u - d))                        \n",
    "B = np.exp(-r * h) * ((u * fd - d * fu)/ (u - d))  \n",
    "callPremium = S * Delta + B\n",
    "callPrice = 15.5\n",
    "Arbitrage = callPrice-callPremium\n",
    "print(f\"The arbatrage would be: {Arbitrage : 0.2f}\")"
   ]
  },
  {
   "cell_type": "markdown",
   "metadata": {},
   "source": [
    "### Problem 3: Let S = $100, K = $95, σ = 30%, r = 8%, T = 1, and δ = 0.0. Let u = 1.3, d = 0.8, and n= 2. Construct the binomial tree for a call option. At each node provide the premium, ∆, and B."
   ]
  },
  {
   "cell_type": "code",
   "execution_count": 10,
   "metadata": {},
   "outputs": [],
   "source": [
    "S = 100\n",
    "K = 95\n",
    "r = 0.08\n",
    "v = 0.30\n",
    "q = 0.0\n",
    "T = 1.0\n",
    "n = 2"
   ]
  },
  {
   "cell_type": "code",
   "execution_count": 11,
   "metadata": {},
   "outputs": [
    {
     "name": "stdout",
     "output_type": "stream",
     "text": [
      "[[100. 130. 169.]\n",
      " [  0.  80. 104.]\n",
      " [  0.   0.  64.]]\n",
      "\n",
      "\n",
      "[[19.99369346 38.72500328 74.        ]\n",
      " [ 0.          4.16463208  9.        ]\n",
      " [ 0.          0.          0.        ]]\n",
      "\n",
      "\n",
      "[[-49.12704895 -91.27499672   0.        ]\n",
      " [  0.         -13.83536792   0.        ]\n",
      " [  0.           0.           0.        ]]\n",
      "\n",
      "\n",
      "[[0.69120742 1.         0.        ]\n",
      " [0.         0.225      0.        ]\n",
      " [0.         0.         0.        ]]\n",
      "The European Put Premium:  19.994\n"
     ]
    }
   ],
   "source": [
    "\n",
    "import numpy as np\n",
    "from scipy.stats import binom\n",
    "\n",
    "def callPayoff(spot, strike):\n",
    "    return np.maximum(spot - strike, 0.0)\n",
    "\n",
    "def putPayoff(spot, strike):\n",
    "    return np.maximum(strike - spot, 0.0)\n",
    "def euroBinomPricerRecursiveMatrix(S, K, r, v, q, T, n, payoff, verbose = True):\n",
    "    nodes = n  + 1\n",
    "    h = T / n\n",
    "    u = 1.3\n",
    "    d = 0.8\n",
    "    pu = (np.exp((r - q) * h) - d) / (u - d)\n",
    "    pd = 1.0 - pu\n",
    "    disc = np.exp(-r * h)\n",
    "    \n",
    "    ## Arrays to store the spot prices and option values\n",
    "    Ct = np.zeros((nodes, n+1))\n",
    "    St = np.zeros((nodes, n+1))\n",
    "    Bt = np.zeros((nodes, n+1))\n",
    "    Dt = np.zeros((nodes, n+1))\n",
    "    Pt = np.zeros((nodes, n+1))\n",
    "    for i in range(nodes):\n",
    "        St[i, n] = S * (u**(n-i)) * (d**i)\n",
    "        Ct[i, n] = payoff(St[i, n], K)\n",
    "        \n",
    "    for t in range((n-1), -1, -1):\n",
    "        for j in range(t+1):\n",
    "            St[j, t] = St[j, t+1] / u\n",
    "            Ct[j, t] = disc * ((pu * Ct[j, t+1]) + (pd * Ct[j+1, t+1]))\n",
    "            Bt[j, t] = np.exp(-r * h) * ((u * Ct[j+1, t+1] - d * Ct[j, t+1 ])/ (u - d))\n",
    "            Dt[j, t] = (Ct[j,t] - Bt[j,t])/St[j, t]\n",
    "    if verbose:\n",
    "        print(St)\n",
    "        print(\"\\n\")\n",
    "        print(Ct)\n",
    "        print(\"\\n\")\n",
    "        print(Bt)\n",
    "        print(\"\\n\")\n",
    "        print(Dt)\n",
    "\n",
    "        \n",
    "            \n",
    "    return Ct[0,0]\n",
    "    #return Dt[0,0]\n",
    "            \n",
    "putPrc = euroBinomPricerRecursiveMatrix(S, K, r, v, q, T, n, callPayoff, verbose = True)\n",
    "print(f\"The European Put Premium: {putPrc : 0.3f}\") "
   ]
  },
  {
   "cell_type": "markdown",
   "metadata": {},
   "source": [
    "### Problem 4: Repeat the option price calculation in the previous question for stock prices of $80, $90, $110, $120, and $130, but now let n= 3. Keep everyting else fixed. What happens to the initial option ∆ as the stock price increases?"
   ]
  },
  {
   "cell_type": "code",
   "execution_count": 12,
   "metadata": {},
   "outputs": [
    {
     "name": "stdout",
     "output_type": "stream",
     "text": [
      "[[ 80.   104.   135.2  175.76]\n",
      " [  0.    64.    83.2  108.16]\n",
      " [  0.     0.    51.2   66.56]\n",
      " [  0.     0.     0.    40.96]]\n",
      "\n",
      "\n",
      "[[11.08055585 21.9705133  42.69985381 80.76      ]\n",
      " [ 0.          2.57218631  5.81807286 13.16      ]\n",
      " [ 0.          0.          0.          0.        ]\n",
      " [ 0.          0.          0.          0.        ]]\n",
      "\n",
      "\n",
      "[[-27.71609813 -51.7930486  -92.50014619   0.        ]\n",
      " [  0.          -9.06395941 -20.50192714   0.        ]\n",
      " [  0.           0.           0.           0.        ]\n",
      " [  0.           0.           0.           0.        ]]\n",
      "\n",
      "\n",
      "[[0.48495817 0.70926502 1.         0.        ]\n",
      " [0.         0.18181478 0.31634615 0.        ]\n",
      " [0.         0.         0.         0.        ]\n",
      " [0.         0.         0.         0.        ]]\n",
      "The European Put Premium:  11.081\n"
     ]
    }
   ],
   "source": [
    "S = 80\n",
    "K = 95\n",
    "r = 0.08\n",
    "v = 0.30\n",
    "q = 0.0\n",
    "T = 1.0\n",
    "n = 3\n",
    "\n",
    "import numpy as np\n",
    "from scipy.stats import binom\n",
    "\n",
    "def callPayoff(spot, strike):\n",
    "    return np.maximum(spot - strike, 0.0)\n",
    "\n",
    "def putPayoff(spot, strike):\n",
    "    return np.maximum(strike - spot, 0.0)\n",
    "def euroBinomPricerRecursiveMatrix(S, K, r, v, q, T, n, payoff, verbose = True):\n",
    "    nodes = n  + 1\n",
    "    h = T / n\n",
    "    u = 1.3\n",
    "    d = 0.8\n",
    "    pu = (np.exp((r - q) * h) - d) / (u - d)\n",
    "    pd = 1.0 - pu\n",
    "    disc = np.exp(-r * h)\n",
    "    \n",
    "    ## Arrays to store the spot prices and option values\n",
    "    Ct = np.zeros((nodes, n+1))\n",
    "    St = np.zeros((nodes, n+1))\n",
    "    Bt = np.zeros((nodes, n+1))\n",
    "    Dt = np.zeros((nodes, n+1))\n",
    "    Pt = np.zeros((nodes, n+1))\n",
    "    for i in range(nodes):\n",
    "        St[i, n] = S * (u**(n-i)) * (d**i)\n",
    "        Ct[i, n] = payoff(St[i, n], K)\n",
    "        \n",
    "    for t in range((n-1), -1, -1):\n",
    "        for j in range(t+1):\n",
    "            St[j, t] = St[j, t+1] / u\n",
    "            Ct[j, t] = disc * ((pu * Ct[j, t+1]) + (pd * Ct[j+1, t+1]))\n",
    "            Bt[j, t] = np.exp(-r * h) * ((u * Ct[j+1, t+1] - d * Ct[j, t+1 ])/ (u - d))\n",
    "            Dt[j, t] = (Ct[j,t] - Bt[j,t])/St[j, t]\n",
    "    if verbose:\n",
    "        print(St)\n",
    "        print(\"\\n\")\n",
    "        print(Ct)\n",
    "        print(\"\\n\")\n",
    "        print(Bt)\n",
    "        print(\"\\n\")\n",
    "        print(Dt)\n",
    "\n",
    "        \n",
    "            \n",
    "    return Ct[0,0]\n",
    "    #return Dt[0,0]\n",
    "            \n",
    "putPrc = euroBinomPricerRecursiveMatrix(S, K, r, v, q, T, n, callPayoff, verbose = True)\n",
    "print(f\"The European Put Premium: {putPrc : 0.3f}\") "
   ]
  },
  {
   "cell_type": "code",
   "execution_count": 13,
   "metadata": {},
   "outputs": [
    {
     "name": "stdout",
     "output_type": "stream",
     "text": [
      "[[ 90.   117.   152.1  197.73]\n",
      " [  0.    72.    93.6  121.68]\n",
      " [  0.     0.    57.6   74.88]\n",
      " [  0.     0.     0.    46.08]]\n",
      "\n",
      "\n",
      "[[ 17.19321255  32.61944411  59.59985381 102.73      ]\n",
      " [  0.           5.21473638  11.79530273  26.68      ]\n",
      " [  0.           0.           0.           0.        ]\n",
      " [  0.           0.           0.           0.        ]]\n",
      "\n",
      "\n",
      "[[-37.61620293 -62.98965805 -92.50014619   0.        ]\n",
      " [  0.         -18.37586909 -41.56469727   0.        ]\n",
      " [  0.           0.           0.           0.        ]\n",
      " [  0.           0.           0.           0.        ]]\n",
      "\n",
      "\n",
      "[[0.60899351 0.81717181 1.         0.        ]\n",
      " [0.         0.3276473  0.57008547 0.        ]\n",
      " [0.         0.         0.         0.        ]\n",
      " [0.         0.         0.         0.        ]]\n",
      "The European Put Premium:  17.193\n"
     ]
    }
   ],
   "source": [
    "S = 90\n",
    "putPrc = euroBinomPricerRecursiveMatrix(S, K, r, v, q, T, n, callPayoff, verbose = True)\n",
    "print(f\"The European Put Premium: {putPrc : 0.3f}\") "
   ]
  },
  {
   "cell_type": "code",
   "execution_count": 14,
   "metadata": {},
   "outputs": [
    {
     "name": "stdout",
     "output_type": "stream",
     "text": [
      "[[ 90.   117.   152.1  197.73]\n",
      " [  0.    72.    93.6  121.68]\n",
      " [  0.     0.    57.6   74.88]\n",
      " [  0.     0.     0.    46.08]]\n",
      "\n",
      "\n",
      "[[ 17.19321255  32.61944411  59.59985381 102.73      ]\n",
      " [  0.           5.21473638  11.79530273  26.68      ]\n",
      " [  0.           0.           0.           0.        ]\n",
      " [  0.           0.           0.           0.        ]]\n",
      "\n",
      "\n",
      "[[-37.61620293 -62.98965805 -92.50014619   0.        ]\n",
      " [  0.         -18.37586909 -41.56469727   0.        ]\n",
      " [  0.           0.           0.           0.        ]\n",
      " [  0.           0.           0.           0.        ]]\n",
      "\n",
      "\n",
      "[[0.60899351 0.81717181 1.         0.        ]\n",
      " [0.         0.3276473  0.57008547 0.        ]\n",
      " [0.         0.         0.         0.        ]\n",
      " [0.         0.         0.         0.        ]]\n",
      "The European Put Premium:  17.193\n"
     ]
    }
   ],
   "source": [
    "S = 90\n",
    "putPrc = euroBinomPricerRecursiveMatrix(S, K, r, v, q, T, n, callPayoff, verbose = True)\n",
    "print(f\"The European Put Premium: {putPrc : 0.3f}\") "
   ]
  },
  {
   "cell_type": "code",
   "execution_count": 15,
   "metadata": {},
   "outputs": [
    {
     "name": "stdout",
     "output_type": "stream",
     "text": [
      "[[110.   143.   185.9  241.67]\n",
      " [  0.    88.   114.4  148.72]\n",
      " [  0.     0.    70.4   91.52]\n",
      " [  0.     0.     0.    56.32]]\n",
      "\n",
      "\n",
      "[[ 29.41852594  53.91730574  93.39985381 146.67      ]\n",
      " [  0.          10.49983651  23.74976247  53.72      ]\n",
      " [  0.           0.           0.           0.        ]\n",
      " [  0.           0.           0.           0.        ]]\n",
      "\n",
      "\n",
      "[[-57.41641252 -85.38287694 -92.50014619   0.        ]\n",
      " [  0.         -36.99968843 -83.69023753   0.        ]\n",
      " [  0.           0.           0.           0.        ]\n",
      " [  0.           0.           0.           0.        ]]\n",
      "\n",
      "\n",
      "[[0.78940853 0.97412715 1.         0.        ]\n",
      " [0.         0.53976733 0.93916084 0.        ]\n",
      " [0.         0.         0.         0.        ]\n",
      " [0.         0.         0.         0.        ]]\n",
      "The European Put Premium:  29.419\n"
     ]
    }
   ],
   "source": [
    "S = 110\n",
    "putPrc = euroBinomPricerRecursiveMatrix(S, K, r, v, q, T, n, callPayoff, verbose = True)\n",
    "print(f\"The European Put Premium: {putPrc : 0.3f}\") "
   ]
  },
  {
   "cell_type": "code",
   "execution_count": 16,
   "metadata": {},
   "outputs": [
    {
     "name": "stdout",
     "output_type": "stream",
     "text": [
      "[[120.   156.   202.8  263.64]\n",
      " [  0.    96.   124.8  162.24]\n",
      " [  0.     0.    76.8   99.84]\n",
      " [  0.     0.     0.    61.44]]\n",
      "\n",
      "\n",
      "[[ 37.34516043  65.93392584 110.29985381 168.64      ]\n",
      " [  0.          15.41732511  32.29985381  67.24      ]\n",
      " [  0.           0.           2.13977756   4.84      ]\n",
      " [  0.           0.           0.           0.        ]]\n",
      "\n",
      "\n",
      "[[-63.68804104 -90.06607416 -92.50014619   0.        ]\n",
      " [  0.         -44.9028274  -92.50014619   0.        ]\n",
      " [  0.           0.          -7.54022244   0.        ]\n",
      " [  0.           0.           0.           0.        ]]\n",
      "\n",
      "\n",
      "[[0.84194335 1.         1.         0.        ]\n",
      " [0.         0.62833492 1.         0.        ]\n",
      " [0.         0.         0.12604167 0.        ]\n",
      " [0.         0.         0.         0.        ]]\n",
      "The European Put Premium:  37.345\n"
     ]
    }
   ],
   "source": [
    "S = 120\n",
    "putPrc = euroBinomPricerRecursiveMatrix(S, K, r, v, q, T, n, callPayoff, verbose = True)\n",
    "print(f\"The European Put Premium: {putPrc : 0.3f}\") "
   ]
  },
  {
   "cell_type": "code",
   "execution_count": 17,
   "metadata": {},
   "outputs": [
    {
     "name": "stdout",
     "output_type": "stream",
     "text": [
      "[[130.   169.   219.7  285.61]\n",
      " [  0.   104.   135.2  175.76]\n",
      " [  0.     0.    83.2  108.16]\n",
      " [  0.     0.     0.    66.56]]\n",
      "\n",
      "\n",
      "[[ 46.57605995  78.93392584 127.19985381 190.61      ]\n",
      " [  0.          21.9705133   42.69985381  80.76      ]\n",
      " [  0.           0.           5.81807286  13.16      ]\n",
      " [  0.           0.           0.           0.        ]]\n",
      "\n",
      "\n",
      "[[-67.35076514 -90.06607416 -92.50014619   0.        ]\n",
      " [  0.         -51.7930486  -92.50014619   0.        ]\n",
      " [  0.           0.         -20.50192714   0.        ]\n",
      " [  0.           0.           0.           0.        ]]\n",
      "\n",
      "\n",
      "[[0.87636019 1.         1.         0.        ]\n",
      " [0.         0.70926502 1.         0.        ]\n",
      " [0.         0.         0.31634615 0.        ]\n",
      " [0.         0.         0.         0.        ]]\n",
      "The European Put Premium:  46.576\n"
     ]
    }
   ],
   "source": [
    "S = 130\n",
    "putPrc = euroBinomPricerRecursiveMatrix(S, K, r, v, q, T, n, callPayoff, verbose = True)\n",
    "print(f\"The European Put Premium: {putPrc : 0.3f}\") "
   ]
  },
  {
   "cell_type": "markdown",
   "metadata": {},
   "source": [
    "##### When the stock price increases, so does the ∆."
   ]
  },
  {
   "cell_type": "markdown",
   "metadata": {},
   "source": [
    "### Problem 5: Let S= $100, K= $95, r = 8%(continuously compounded), σ = 30%, δ = 0, and T = 1 year and n= 3"
   ]
  },
  {
   "cell_type": "code",
   "execution_count": 18,
   "metadata": {},
   "outputs": [],
   "source": [
    "S = 100\n",
    "K = 95\n",
    "r = .08\n",
    "q = .30\n",
    "T = 1\n",
    "n = 3"
   ]
  },
  {
   "cell_type": "markdown",
   "metadata": {},
   "source": [
    "#### a. What is the premium for an American call option? Is there any early exercise?"
   ]
  },
  {
   "cell_type": "code",
   "execution_count": 19,
   "metadata": {},
   "outputs": [
    {
     "name": "stdout",
     "output_type": "stream",
     "text": [
      "The American call Premium:  18.283\n"
     ]
    }
   ],
   "source": [
    "S = 100\n",
    "K = 95\n",
    "r = 0.08\n",
    "v = 0.30\n",
    "q = 0.0\n",
    "T = 1.0\n",
    "n = 3\n",
    "\n",
    "import numpy as np\n",
    "from scipy.stats import binom\n",
    "\n",
    "def callPayoff(spot, strike):\n",
    "    return np.maximum(spot - strike, 0.0)\n",
    "\n",
    "def putPayoff(spot, strike):\n",
    "    return np.maximum(strike - spot, 0.0)\n",
    "def AmerBinomPricerRecursiveMatrix(S, K, r, v, q, T, n, payoff, verbose = True):\n",
    "    nodes = n  + 1\n",
    "    h = T / n\n",
    "    u = np.exp((r - q) * h + v * np.sqrt(h))\n",
    "    d = np.exp((r - q) * h - v * np.sqrt(h))\n",
    "    pu = (np.exp((r - q) * h) - d) / (u - d)\n",
    "    pd = 1.0 - pu\n",
    "    disc = np.exp(-r * h)\n",
    "    \n",
    "    ## Arrays to store the spot prices and option values\n",
    "    Ct = np.zeros((nodes, n+1))\n",
    "    St = np.zeros((nodes, n+1))\n",
    "    Bt = np.zeros((nodes, n+1))\n",
    "    Dt = np.zeros((nodes, n+1))\n",
    "    At = np.zeros((nodes, n+1))\n",
    "    \n",
    "    for i in range(nodes):\n",
    "        St[i, n] = S * (u**(n-i)) * (d**i)\n",
    "        Ct[i, n] = payoff(St[i, n], K)\n",
    "        At[i, n] = payoff(St[i, n], K)\n",
    "    \n",
    "    for t in range((n-1), -1, -1):\n",
    "        for j in range(t+1):\n",
    "            St[j, t] = St[j, t+1] / u\n",
    "            ##Ct[j, t] = disc * ((pu * Ct[j, t+1]) + (pd * Ct[j+1, t+1]))\n",
    "            #At[j, t] = payoff(St[j, t], K)\n",
    "            Bt[j, t] = np.exp(-r * h) * ((u * Ct[j+1, t+1] - d * Ct[j, t+1 ])/ (u - d))\n",
    "            Dt[j, t] = np.exp(-q*T) * ((Ct[j, t+1]-Ct[j+1, t+1])/(St[j, t]*(u-d)))\n",
    "            Ct[j, t] = np.maximum((Bt[j, t]) + (Dt[j, t]*St[j, t]), payoff(St[j, t], K))\n",
    "    if verbose:\n",
    "        print(St)\n",
    "        print(\"\\n\")\n",
    "        print(Ct)\n",
    "        print(\"\\n\")\n",
    "        #print(At)\n",
    "        print(\"\\n\")\n",
    "        print(Bt)\n",
    "        print(\"\\n\")\n",
    "        print(Dt)\n",
    "\n",
    "        \n",
    "            \n",
    "    return Ct[0,0]\n",
    "    #return Dt[0,0]\n",
    "            \n",
    "putPrc = AmerBinomPricerRecursiveMatrix(S, K, r, v, q, T, n, callPayoff, verbose = False)\n",
    "print(f\"The American call Premium: {putPrc : 0.3f}\") \n"
   ]
  },
  {
   "cell_type": "markdown",
   "metadata": {},
   "source": [
    "##### There is not an early exercise"
   ]
  },
  {
   "cell_type": "markdown",
   "metadata": {},
   "source": [
    "#### b. What is the premium for a European call option? Use the computational shortcut with the risk-neutral binomial pmf that I showed you in class. Compare the American and European premia."
   ]
  },
  {
   "cell_type": "code",
   "execution_count": 20,
   "metadata": {},
   "outputs": [
    {
     "name": "stdout",
     "output_type": "stream",
     "text": [
      "The European Call Premium:  18.283\n"
     ]
    }
   ],
   "source": [
    "def euroBinomPricer(S, K, r, v, q, T, n, payoff, verbose = True):\n",
    "    nodes = n  + 1\n",
    "    h = T / n\n",
    "    u = np.exp((r - q) * h + v * np.sqrt(h))\n",
    "    d = np.exp((r - q) * h - v * np.sqrt(h))\n",
    "    pstar = (np.exp((r - q) * h) - d) / (u - d)\n",
    "    \n",
    "    price = 0.0\n",
    "    \n",
    "    for i in range(nodes):\n",
    "        prob = binom.pmf(i, n, pstar)\n",
    "        spotT = S * (u ** i) * (d ** (n - i))\n",
    "        po = payoff(spotT, K) \n",
    "        price += po * prob\n",
    "        if verbose:\n",
    "            print(f\"({spotT:0.4f}, {po:0.4f}, {prob:0.4f})\")\n",
    "        \n",
    "    price *= np.exp(-r * T)\n",
    "    \n",
    "    return price\n",
    "    \n",
    "            \n",
    "putPrc = euroBinomPricer(S, K, r, v, q, T, n, callPayoff, verbose = False)\n",
    "print(f\"The European Call Premium: {putPrc : 0.3f}\") "
   ]
  },
  {
   "cell_type": "markdown",
   "metadata": {},
   "source": [
    "##### Both the European and the American call premiums end up being the same."
   ]
  },
  {
   "cell_type": "markdown",
   "metadata": {},
   "source": [
    "#### c. What is the premium for a European put? Does put-call parity hold? (see McDonald Chapter 9). Also use the risk-neutral binomial pmf for this problem"
   ]
  },
  {
   "cell_type": "code",
   "execution_count": 21,
   "metadata": {},
   "outputs": [
    {
     "name": "stdout",
     "output_type": "stream",
     "text": [
      "The European Put Premium:  5.979\n"
     ]
    }
   ],
   "source": [
    "putPrc = euroBinomPricer(S, K, r, v, q, T, n, putPayoff, verbose = False)\n",
    "print(f\"The European Put Premium: {putPrc : 0.3f}\") "
   ]
  },
  {
   "cell_type": "code",
   "execution_count": 22,
   "metadata": {},
   "outputs": [
    {
     "name": "stdout",
     "output_type": "stream",
     "text": [
      "105.97860511410096\n",
      "105.97860511410097\n"
     ]
    }
   ],
   "source": [
    "\n",
    "disc = np.exp(-r*T)\n",
    "euroPut = euroBinomPricer(S, K, r, v, q, T, n, putPayoff, verbose = False)\n",
    "euroCall =euroBinomPricer(S, K, r, v, q, T, n, callPayoff, verbose = False)\n",
    "\n",
    "print((K *disc)+euroCall)\n",
    "print(S +euroPut)\n",
    " "
   ]
  },
  {
   "cell_type": "markdown",
   "metadata": {},
   "source": [
    "##### put call parity does hold"
   ]
  },
  {
   "cell_type": "markdown",
   "metadata": {},
   "source": [
    "#### d. What is the premium of the American put? Compare with the European put. If they differ, explain why."
   ]
  },
  {
   "cell_type": "code",
   "execution_count": 23,
   "metadata": {},
   "outputs": [
    {
     "name": "stdout",
     "output_type": "stream",
     "text": [
      "The European Put Premium:  5.979\n",
      "The American put Premium:  6.678\n"
     ]
    }
   ],
   "source": [
    "putPrc = euroBinomPricer(S, K, r, v, q, T, n, putPayoff, verbose = False)\n",
    "print(f\"The European Put Premium: {putPrc : 0.3f}\") \n",
    "putPrc = AmerBinomPricerRecursiveMatrix(S, K, r, v, q, T, n, putPayoff, verbose = False)\n",
    "print(f\"The American put Premium: {putPrc : 0.3f}\")"
   ]
  },
  {
   "cell_type": "markdown",
   "metadata": {},
   "source": [
    "##### The American put premium is higher due to the ability to call early."
   ]
  },
  {
   "cell_type": "markdown",
   "metadata": {},
   "source": [
    "### Problem 6 LetS = $40, K= $ 40, r= 8% (continuously compounded), σ= 30% , δ= 0.0, T= 0.5year, and n= 3."
   ]
  },
  {
   "cell_type": "markdown",
   "metadata": {},
   "source": [
    "#### a. Construct the binomial tree for the stock. What are u and d?"
   ]
  },
  {
   "cell_type": "code",
   "execution_count": 24,
   "metadata": {},
   "outputs": [
    {
     "name": "stdout",
     "output_type": "stream",
     "text": [
      "1.1454617381452392\n",
      "0.8966038495199921\n",
      "[[40.         45.81846953 52.48330374 60.11761633]\n",
      " [ 0.         35.86415398 41.08101616 47.05673217]\n",
      " [ 0.          0.         32.15593852 36.83339723]\n",
      " [ 0.          0.          0.         28.83113826]]\n",
      "\n",
      "\n",
      "[[ 4.37742951  7.73902974 13.01309727 20.11761633]\n",
      " [ 0.          1.51406624  3.26869392  7.05673217]\n",
      " [ 0.          0.          0.          0.        ]\n",
      " [ 0.          0.          0.          0.        ]]\n",
      "\n",
      "\n",
      "\n",
      "\n",
      "[[-20.63670018 -31.41746798 -39.47020647   0.        ]\n",
      " [  0.         -11.62071497 -25.08777977   0.        ]\n",
      " [  0.           0.           0.           0.        ]\n",
      " [  0.           0.           0.           0.        ]]\n",
      "\n",
      "\n",
      "[[0.62535324 0.85460073 1.         0.        ]\n",
      " [0.         0.36623703 0.69025736 0.        ]\n",
      " [0.         0.         0.         0.        ]\n",
      " [0.         0.         0.         0.        ]]\n",
      "The American call Premium:  4.377\n",
      "1.1454617381452392\n",
      "0.8966038495199921\n",
      "[[40.         45.81846953 52.48330374 60.11761633]\n",
      " [ 0.         35.86415398 41.08101616 47.05673217]\n",
      " [ 0.          0.         32.15593852 36.83339723]\n",
      " [ 0.          0.          0.         28.83113826]]\n",
      "\n",
      "\n",
      "[[ 4.37742951  7.73902974 13.01309727 20.11761633]\n",
      " [ 0.          1.51406624  3.26869392  7.05673217]\n",
      " [ 0.          0.          0.          0.        ]\n",
      " [ 0.          0.          0.          0.        ]]\n",
      "\n",
      "\n",
      "\n",
      "\n",
      "[[-20.63670018 -31.41746798 -39.47020647   0.        ]\n",
      " [  0.         -11.62071497 -25.08777977   0.        ]\n",
      " [  0.           0.           0.           0.        ]\n",
      " [  0.           0.           0.           0.        ]]\n",
      "\n",
      "\n",
      "[[0.62535324 0.85460073 1.         0.        ]\n",
      " [0.         0.36623703 0.69025736 0.        ]\n",
      " [0.         0.         0.         0.        ]\n",
      " [0.         0.         0.         0.        ]]\n",
      "The American call Premium:  4.377\n"
     ]
    }
   ],
   "source": [
    "S = 40\n",
    "K = 40\n",
    "r = 0.08\n",
    "v = 0.30\n",
    "q = 0.0\n",
    "T = .5\n",
    "n = 3\n",
    "\n",
    "import numpy as np\n",
    "from scipy.stats import binom\n",
    "\n",
    "def callPayoff(spot, strike):\n",
    "    return np.maximum(spot - strike, 0.0)\n",
    "\n",
    "def putPayoff(spot, strike):\n",
    "    return np.maximum(strike - spot, 0.0)\n",
    "def AmerBinomPricerRecursiveMatrix(S, K, r, v, q, T, n, payoff, verbose = True):\n",
    "    nodes = n  + 1\n",
    "    h = T / n\n",
    "    u = np.exp((r - q) * h + v * np.sqrt(h))\n",
    "    d = np.exp((r - q) * h - v * np.sqrt(h))\n",
    "    pu = (np.exp((r - q) * h) - d) / (u - d)\n",
    "    pd = 1.0 - pu\n",
    "    disc = np.exp(-r * h)\n",
    "   \n",
    "    \n",
    "    ## Arrays to store the spot prices and option values\n",
    "    Ct = np.zeros((nodes, n+1))\n",
    "    St = np.zeros((nodes, n+1))\n",
    "    Bt = np.zeros((nodes, n+1))\n",
    "    Dt = np.zeros((nodes, n+1))\n",
    "    At = np.zeros((nodes, n+1))\n",
    "    \n",
    "    for i in range(nodes):\n",
    "        St[i, n] = S * (u**(n-i)) * (d**i)\n",
    "        Ct[i, n] = payoff(St[i, n], K)\n",
    "        At[i, n] = payoff(St[i, n], K)\n",
    "    \n",
    "    for t in range((n-1), -1, -1):\n",
    "        for j in range(t+1):\n",
    "            St[j, t] = St[j, t+1] / u\n",
    "            ##Ct[j, t] = disc * ((pu * Ct[j, t+1]) + (pd * Ct[j+1, t+1]))\n",
    "            #At[j, t] = payoff(St[j, t], K)\n",
    "            Bt[j, t] = np.exp(-r * h) * ((u * Ct[j+1, t+1] - d * Ct[j, t+1 ])/ (u - d))\n",
    "            Dt[j, t] = np.exp(-q*T) * ((Ct[j, t+1]-Ct[j+1, t+1])/(St[j, t]*(u-d)))\n",
    "            Ct[j, t] = np.maximum((Bt[j, t]) + (Dt[j, t]*St[j, t]), payoff(St[j, t], K))\n",
    "    if verbose:\n",
    "        print(u)\n",
    "        print(d)\n",
    "        print(St)\n",
    "        print(\"\\n\")\n",
    "        print(Ct)\n",
    "        print(\"\\n\")\n",
    "        #print(At)\n",
    "        print(\"\\n\")\n",
    "        print(Bt)\n",
    "        print(\"\\n\")\n",
    "        print(Dt)\n",
    "\n",
    "        \n",
    "            \n",
    "    return Ct[0,0]\n",
    "    #return Dt[0,0]\n",
    "            \n",
    "putPrc = AmerBinomPricerRecursiveMatrix(S, K, r, v, q, T, n, callPayoff, verbose = True)\n",
    "print(f\"The American call Premium: {putPrc : 0.3f}\") \n",
    "putPrc = AmerBinomPricerRecursiveMatrix(S, K, r, v, q, T, n, callPayoff, verbose = True)\n",
    "print(f\"The American call Premium: {putPrc : 0.3f}\")"
   ]
  },
  {
   "cell_type": "markdown",
   "metadata": {},
   "source": [
    "#### b. Compute the premia of American and European calls and puts."
   ]
  },
  {
   "cell_type": "code",
   "execution_count": 25,
   "metadata": {},
   "outputs": [
    {
     "name": "stdout",
     "output_type": "stream",
     "text": [
      "The European Call Premium:  4.377\n"
     ]
    }
   ],
   "source": [
    "def euroBinomPricer(S, K, r, v, q, T, n, payoff, verbose = True):\n",
    "    nodes = n  + 1\n",
    "    h = T / n\n",
    "    u = np.exp((r - q) * h + v * np.sqrt(h))\n",
    "    d = np.exp((r - q) * h - v * np.sqrt(h))\n",
    "    pstar = (np.exp((r - q) * h) - d) / (u - d)\n",
    "    \n",
    "    price = 0.0\n",
    "    \n",
    "    for i in range(nodes):\n",
    "        prob = binom.pmf(i, n, pstar)\n",
    "        spotT = S * (u ** i) * (d ** (n - i))\n",
    "        po = payoff(spotT, K) \n",
    "        price += po * prob\n",
    "        if verbose:\n",
    "            print(f\"({spotT:0.4f}, {po:0.4f}, {prob:0.4f})\")\n",
    "        \n",
    "    price *= np.exp(-r * T)\n",
    "    \n",
    "    return price\n",
    "    \n",
    "            \n",
    "putPrc = euroBinomPricer(S, K, r, v, q, T, n, callPayoff, verbose = False)\n",
    "print(f\"The European Call Premium: {putPrc : 0.3f}\") "
   ]
  },
  {
   "cell_type": "code",
   "execution_count": 26,
   "metadata": {},
   "outputs": [
    {
     "name": "stdout",
     "output_type": "stream",
     "text": [
      "The American call Premium:  4.377\n",
      "The American put Premium:  2.954\n",
      "The European Call Premium:  4.377\n",
      "The European put Premium:  2.809\n"
     ]
    }
   ],
   "source": [
    "putPrc = AmerBinomPricerRecursiveMatrix(S, K, r, v, q, T, n, callPayoff, verbose = False)\n",
    "print(f\"The American call Premium: {putPrc : 0.3f}\") \n",
    "putPrc = AmerBinomPricerRecursiveMatrix(S, K, r, v, q, T, n, putPayoff, verbose = False)\n",
    "print(f\"The American put Premium: {putPrc : 0.3f}\")\n",
    "putPrc = euroBinomPricer(S, K, r, v, q, T, n, callPayoff, verbose = False)\n",
    "print(f\"The European Call Premium: {putPrc : 0.3f}\") \n",
    "putPrc = euroBinomPricer(S, K, r, v, q, T, n, putPayoff, verbose = False)\n",
    "print(f\"The European put Premium: {putPrc : 0.3f}\") "
   ]
  },
  {
   "cell_type": "code",
   "execution_count": null,
   "metadata": {},
   "outputs": [],
   "source": []
  },
  {
   "cell_type": "code",
   "execution_count": null,
   "metadata": {},
   "outputs": [],
   "source": []
  },
  {
   "cell_type": "code",
   "execution_count": null,
   "metadata": {},
   "outputs": [],
   "source": []
  },
  {
   "cell_type": "code",
   "execution_count": null,
   "metadata": {},
   "outputs": [],
   "source": []
  },
  {
   "cell_type": "code",
   "execution_count": null,
   "metadata": {},
   "outputs": [],
   "source": []
  }
 ],
 "metadata": {
  "kernelspec": {
   "display_name": "Python 3",
   "language": "python",
   "name": "python3"
  },
  "language_info": {
   "codemirror_mode": {
    "name": "ipython",
    "version": 3
   },
   "file_extension": ".py",
   "mimetype": "text/x-python",
   "name": "python",
   "nbconvert_exporter": "python",
   "pygments_lexer": "ipython3",
   "version": "3.6.5"
  }
 },
 "nbformat": 4,
 "nbformat_minor": 2
}
